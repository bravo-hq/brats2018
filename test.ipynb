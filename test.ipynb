{
 "cells": [
  {
   "cell_type": "code",
   "execution_count": 37,
   "metadata": {},
   "outputs": [],
   "source": [
    "import glob\n",
    "import os\n",
    "import numpy as np\n",
    "import nibabel as nib\n",
    "import torch\n",
    "from torch.utils.data import Dataset, DataLoader\n",
    "import random\n",
    "from PIL import Image\n",
    "import h5py\n",
    "from math import floor, ceil\n",
    "from typing import Tuple, Optional\n",
    "import torch.nn.functional as F\n",
    "import matplotlib.pyplot as plt\n",
    "from matplotlib import colors  # for custom colormap\n",
    "from scipy import ndimage  # for: getting boundaries of image\n",
    "from tqdm import tqdm\n",
    "import albumentations as A\n",
    "import sys\n",
    "\n",
    "sys.path.append(\"./src/\")\n",
    "import loader.brats_metastasis_loader as loader\n",
    "import dataset.brats_metastasis_2D as datasets\n",
    "import importlib\n",
    "\n",
    "importlib.reload(loader)\n",
    "importlib.reload(datasets)\n",
    "from loader.brats_metastasis_loader import brats_metastasis_loader\n",
    "from dataset.brats_metastasis_2D import BratsMetastasisFast\n",
    "import torchmetrics\n",
    "from medpy.metric.binary import hd95\n",
    "from losses import DiceLossWithLogtis\n",
    "from torch.nn import BCEWithLogitsLoss\n",
    "import metrics\n",
    "import brats_metrics.metrics\n",
    "\n",
    "importlib.reload(metrics)\n",
    "importlib.reload(brats_metrics.metrics)\n",
    "from metrics import HD95Metric, MONAIHausdorffDistance\n",
    "from brats_metrics.metrics import get_LesionWiseResults"
   ]
  },
  {
   "cell_type": "code",
   "execution_count": 38,
   "metadata": {},
   "outputs": [],
   "source": [
    "EPSILON = 1e-6\n",
    "metrics = torchmetrics.MetricCollection(\n",
    "    [\n",
    "        # torchmetrics.F1Score(task=\"binary\"),\n",
    "        torchmetrics.Accuracy(\n",
    "            task=\"binary\",\n",
    "        ),\n",
    "        torchmetrics.Dice(multiclass=False, threshold=0.5),\n",
    "        # torchmetrics.Precision(task=\"binary\"),\n",
    "        torchmetrics.Specificity(task=\"binary\"),\n",
    "        torchmetrics.Recall(task=\"binary\"),\n",
    "        torchmetrics.JaccardIndex(task=\"binary\"),\n",
    "        MONAIHausdorffDistance(),\n",
    "        # HD95Metric(),\n",
    "    ],\n",
    "    prefix=\"metrics/\",\n",
    ")"
   ]
  },
  {
   "cell_type": "code",
   "execution_count": 39,
   "metadata": {},
   "outputs": [],
   "source": [
    "# torch.random.manual_seed(42)\n",
    "# edema=nib.load(\"D:\\DATASETS\\Brats 2023\\Segmentation - Brain Metastases\\ASNR-MICCAI-BraTS2023-MET-Challenge-TrainingData/BraTS-MET-00002-000/BraTS-MET-00002-000-seg.nii.gz\").get_fdata()\n",
    "# edema = (torch.from_numpy(edema).unsqueeze(0).unsqueeze(0) == 3 ).int().permute(0,1,4,2,3)\n",
    "gt_1 = torch.randint(0, 2, (1, 1, 155, 100, 100)).int()\n",
    "pred_1 = (torch.rand((1, 1, 155, 100, 100)) > 0.5).int()\n",
    "\n",
    "# one_hot_mask = torch.cat([~tensor, tensor], dim=1)\n",
    "# one_hot_pred= torch.cat([~pred, pred], dim=1)\n",
    "# hd = MONAIHausdorffDistance()\n",
    "# print(\"gt_1\", gt_1)\n",
    "# print(\"pred_1\", pred_1)"
   ]
  },
  {
   "cell_type": "code",
   "execution_count": 40,
   "metadata": {},
   "outputs": [
    {
     "name": "stdout",
     "output_type": "stream",
     "text": [
      "metrics/BinaryAccuracy tensor(0.4994)\n",
      "metrics/Dice tensor(0.4997)\n",
      "metrics/BinarySpecificity tensor(0.4992)\n",
      "metrics/BinaryRecall tensor(0.4996)\n",
      "metrics/BinaryJaccardIndex tensor(0.3331)\n",
      "metrics/MONAIHausdorffDistance tensor(1.)\n"
     ]
    }
   ],
   "source": [
    "metrics.update(pred_1, gt_1)\n",
    "# metrics.update(preds[0:1], mask[0:1])\n",
    "for key, val in metrics.compute().items():\n",
    "    print(key, val)\n",
    "metrics.reset()"
   ]
  },
  {
   "cell_type": "code",
   "execution_count": 41,
   "metadata": {},
   "outputs": [
    {
     "name": "stdout",
     "output_type": "stream",
     "text": [
      "gt_1_permutated torch.Size([100, 100, 155])\n",
      "pred_1_permutated torch.Size([100, 100, 155])\n",
      "metrics:   predicted_lesion_numbers  gt_lesion_numbers  gt_lesion_vol  dice_lesionwise  \\\n",
      "0                   [1, 2]                  1       775835.0         0.499743   \n",
      "\n",
      "   hd95_lesionwise  _len  \n",
      "0              0.0     2  \n",
      "fn_sub: 0\n",
      "gt_tp_sub: 0\n"
     ]
    }
   ],
   "source": [
    "gt_1_permutated = gt_1.permute(0, 1, 3, 4, 2)[0, 0]\n",
    "pred_1_permutated = pred_1.permute(0, 1, 3, 4, 2)[0, 0]\n",
    "print(\"gt_1_permutated\", gt_1_permutated.shape)\n",
    "print(\"pred_1_permutated\", pred_1_permutated.shape)\n",
    "metric_df = get_LesionWiseResults(pred_1[0, 0], gt_1[0, 0], label_value=\"WT\")"
   ]
  },
  {
   "cell_type": "code",
   "execution_count": 42,
   "metadata": {},
   "outputs": [
    {
     "data": {
      "text/html": [
       "<div>\n",
       "<style scoped>\n",
       "    .dataframe tbody tr th:only-of-type {\n",
       "        vertical-align: middle;\n",
       "    }\n",
       "\n",
       "    .dataframe tbody tr th {\n",
       "        vertical-align: top;\n",
       "    }\n",
       "\n",
       "    .dataframe thead th {\n",
       "        text-align: right;\n",
       "    }\n",
       "</style>\n",
       "<table border=\"1\" class=\"dataframe\">\n",
       "  <thead>\n",
       "    <tr style=\"text-align: right;\">\n",
       "      <th></th>\n",
       "      <th>Labels</th>\n",
       "      <th>GT_Complete_Volume</th>\n",
       "      <th>Legacy_Dice</th>\n",
       "      <th>Legacy_HD95</th>\n",
       "      <th>LesionWise_Score_Dice</th>\n",
       "      <th>LesionWise_Score_HD95</th>\n",
       "      <th>Num_FN</th>\n",
       "      <th>Num_FP</th>\n",
       "      <th>Num_TP</th>\n",
       "      <th>Sensitivity</th>\n",
       "      <th>Specificity</th>\n",
       "    </tr>\n",
       "  </thead>\n",
       "  <tbody>\n",
       "    <tr>\n",
       "      <th>0</th>\n",
       "      <td>WT</td>\n",
       "      <td>775835.0</td>\n",
       "      <td>0.499743</td>\n",
       "      <td>0.0</td>\n",
       "      <td>0.499743</td>\n",
       "      <td>0.0</td>\n",
       "      <td>0.0</td>\n",
       "      <td>0.0</td>\n",
       "      <td>1.0</td>\n",
       "      <td>0.49958</td>\n",
       "      <td>0.499152</td>\n",
       "    </tr>\n",
       "  </tbody>\n",
       "</table>\n",
       "</div>"
      ],
      "text/plain": [
       "  Labels  GT_Complete_Volume  Legacy_Dice  Legacy_HD95  LesionWise_Score_Dice  \\\n",
       "0     WT            775835.0     0.499743          0.0               0.499743   \n",
       "\n",
       "   LesionWise_Score_HD95  Num_FN  Num_FP  Num_TP  Sensitivity  Specificity  \n",
       "0                    0.0     0.0     0.0     1.0      0.49958     0.499152  "
      ]
     },
     "execution_count": 42,
     "metadata": {},
     "output_type": "execute_result"
    }
   ],
   "source": [
    "metric_df"
   ]
  },
  {
   "cell_type": "code",
   "execution_count": 30,
   "metadata": {},
   "outputs": [],
   "source": [
    "# tensor_onehot = F.one_hot(tensor.type(torch.int8), num_classes=2)\n",
    "# tensor_onehot = tensor_onehot.permute(0, 4, 1, 2, 3)\n",
    "# print(tensor_onehot.shape)\n",
    "# tensor_onehot[:, 0:1, :, :, :]"
   ]
  },
  {
   "cell_type": "code",
   "execution_count": 14,
   "metadata": {},
   "outputs": [],
   "source": [
    "EPSILON = 1e-6\n",
    "metrics = torchmetrics.MetricCollection(\n",
    "    [\n",
    "        # torchmetrics.F1Score(task=\"binary\"),\n",
    "        torchmetrics.Accuracy(\n",
    "            task=\"binary\",\n",
    "        ),\n",
    "        torchmetrics.Dice(multiclass=False, threshold=0.5),\n",
    "        # torchmetrics.Precision(task=\"binary\"),\n",
    "        # torchmetrics.Specificity(task=\"binary\"),\n",
    "        # torchmetrics.Recall(task=\"binary\"),\n",
    "        torchmetrics.JaccardIndex(task=\"binary\"),\n",
    "        # HD95Metric(),\n",
    "    ],\n",
    "    prefix=\"metrics/\",\n",
    ")"
   ]
  },
  {
   "cell_type": "code",
   "execution_count": 49,
   "metadata": {},
   "outputs": [
    {
     "data": {
      "text/plain": [
       "tensor([[[0, 0, 0]],\n",
       "\n",
       "        [[0, 0, 1]]], dtype=torch.int8)"
      ]
     },
     "execution_count": 49,
     "metadata": {},
     "output_type": "execute_result"
    }
   ],
   "source": [
    "mask = torch.randint(0, 2, (2, 1, 3)).type(torch.int8)\n",
    "mask"
   ]
  },
  {
   "cell_type": "code",
   "execution_count": 50,
   "metadata": {},
   "outputs": [],
   "source": [
    "mask = torch.tensor([[[0, 0, 0]], [[0, 1, 0]]]).type(torch.int8)"
   ]
  },
  {
   "cell_type": "code",
   "execution_count": 51,
   "metadata": {},
   "outputs": [
    {
     "data": {
      "text/plain": [
       "tensor([[[0.1663, 0.0794, 0.9325]],\n",
       "\n",
       "        [[0.7214, 0.5252, 0.4543]]])"
      ]
     },
     "execution_count": 51,
     "metadata": {},
     "output_type": "execute_result"
    }
   ],
   "source": [
    "logits = torch.rand(mask.shape)  # (b,1,h,w)\n",
    "logits"
   ]
  },
  {
   "cell_type": "code",
   "execution_count": 52,
   "metadata": {},
   "outputs": [],
   "source": [
    "logits = torch.tensor([[[0.6717, 0.6358, 0.7316]], [[0.4887, 0.3869, 0.2465]]])"
   ]
  },
  {
   "cell_type": "code",
   "execution_count": 53,
   "metadata": {},
   "outputs": [
    {
     "data": {
      "text/plain": [
       "tensor([[[1., 1., 1.]],\n",
       "\n",
       "        [[0., 0., 0.]]])"
      ]
     },
     "execution_count": 53,
     "metadata": {},
     "output_type": "execute_result"
    }
   ],
   "source": [
    "preds = (logits > 0.5).float()\n",
    "# preds=torch.zeros_like(logits)\n",
    "# preds[1,0,0]=1\n",
    "# preds[0,0,1]=1\n",
    "preds"
   ]
  },
  {
   "cell_type": "code",
   "execution_count": 54,
   "metadata": {},
   "outputs": [],
   "source": [
    "preds = torch.tensor([[[0.0, 1.0, 0.0]], [[1.0, 0.0, 0.0]]]).float()"
   ]
  },
  {
   "cell_type": "code",
   "execution_count": 55,
   "metadata": {},
   "outputs": [
    {
     "data": {
      "text/plain": [
       "tensor([[[0.5000, 0.7311, 0.5000]],\n",
       "\n",
       "        [[0.7311, 0.5000, 0.5000]]])"
      ]
     },
     "execution_count": 55,
     "metadata": {},
     "output_type": "execute_result"
    }
   ],
   "source": [
    "F.sigmoid(preds)"
   ]
  },
  {
   "cell_type": "code",
   "execution_count": 58,
   "metadata": {},
   "outputs": [
    {
     "name": "stdout",
     "output_type": "stream",
     "text": [
      "tensor([])\n",
      "tensor([1.])\n",
      "metrics/BinaryAccuracy tensor(0.5000)\n",
      "metrics/Dice tensor(0.)\n",
      "metrics/BinaryJaccardIndex tensor(0.)\n",
      "metrics/HD95Metric tensor(0.5000)\n"
     ]
    }
   ],
   "source": [
    "metrics.update(preds[1:2], mask[1:2])\n",
    "metrics.update(preds[0:1], mask[0:1])\n",
    "for key, val in metrics.compute().items():\n",
    "    print(key, val)\n",
    "metrics.reset()"
   ]
  },
  {
   "cell_type": "code",
   "execution_count": 43,
   "metadata": {},
   "outputs": [
    {
     "data": {
      "text/plain": [
       "1"
      ]
     },
     "execution_count": 43,
     "metadata": {},
     "output_type": "execute_result"
    }
   ],
   "source": [
    "num = torch.tensor([1])\n",
    "for i in num:\n",
    "    pass\n",
    "num.dim()"
   ]
  },
  {
   "cell_type": "code",
   "execution_count": null,
   "metadata": {},
   "outputs": [],
   "source": [
    "hd = hd95(preds.numpy(), mask.numpy())\n",
    "hd"
   ]
  },
  {
   "cell_type": "code",
   "execution_count": 63,
   "metadata": {},
   "outputs": [
    {
     "name": "stdout",
     "output_type": "stream",
     "text": [
      "metrics/BinaryAccuracy 0.1666666716337204\n",
      "metrics/Dice 0.2857142984867096\n",
      "metrics/Dice 0.2857142984867096\n"
     ]
    }
   ],
   "source": [
    "# Compute number of correct predictions\n",
    "correct_preds = (preds == mask).float().sum()\n",
    "\n",
    "# Total number of predictions\n",
    "total_preds = mask.numel()  # numel() returns total number of elements in a tensor\n",
    "\n",
    "# Compute accuracy\n",
    "accuracy = correct_preds / total_preds\n",
    "print(f\"metrics/BinaryAccuracy {accuracy.item()}\")\n",
    "\n",
    "# Compute true positives, false positives, and false negatives\n",
    "TP = (preds * mask).sum()\n",
    "FP = (preds * (1 - mask)).sum()\n",
    "FN = ((1 - preds) * mask).sum()\n",
    "\n",
    "# Compute Dice score\n",
    "dice_score = (2 * TP) / (2 * TP + FP + FN)\n",
    "print(f\"metrics/Dice {dice_score.item()}\")\n",
    "dice_2 = (2 * TP) / (preds.sum() + mask.sum())\n",
    "print(f\"metrics/Dice {dice_2.item()}\")\n",
    "# print(f\"true positives: {TP.item()}\")\n",
    "# print(f\"false positives: {FP.item()}\")\n",
    "# print(f\"false negatives: {FN.item()}\")"
   ]
  },
  {
   "cell_type": "code",
   "execution_count": 51,
   "metadata": {},
   "outputs": [],
   "source": [
    "preds = torch.tensor([[[[1.0, 0.0, 0.0]]], [[[0.0, 0.0, 1.0]]]]).type(torch.float32)"
   ]
  },
  {
   "cell_type": "code",
   "execution_count": 52,
   "metadata": {},
   "outputs": [],
   "source": [
    "mask = torch.tensor([[[[1.0, 1.0, 1.0]]], [[[0.0, 0.0, 0.0]]]]).type(torch.int8)"
   ]
  },
  {
   "cell_type": "code",
   "execution_count": 53,
   "metadata": {},
   "outputs": [],
   "source": [
    "logits = torch.tensor(\n",
    "    [[[[0.8163, 0.1656, 0.3986]]], [[[0.3963, 0.1481, 0.5037]]]]\n",
    ").type(torch.float32)"
   ]
  },
  {
   "cell_type": "code",
   "execution_count": 54,
   "metadata": {},
   "outputs": [
    {
     "name": "stdout",
     "output_type": "stream",
     "text": [
      "metrics/BinaryAccuracy tensor(0.5000)\n",
      "metrics/Dice tensor(0.4000)\n",
      "metrics/BinaryJaccardIndex tensor(0.2500)\n"
     ]
    }
   ],
   "source": [
    "metrics.update(logits, mask)\n",
    "for key, val in metrics.compute().items():\n",
    "    print(key, val)\n",
    "metrics.reset()"
   ]
  },
  {
   "cell_type": "code",
   "execution_count": 55,
   "metadata": {},
   "outputs": [
    {
     "name": "stdout",
     "output_type": "stream",
     "text": [
      "0.4000000059604645\n",
      "true positives: 1.0\n",
      "false positives: 1.0\n",
      "false negatives: 2.0\n",
      "0.5\n"
     ]
    }
   ],
   "source": [
    "# Compute true positives, false positives, and false negatives\n",
    "TP = (preds * mask).sum()\n",
    "FP = (preds * (1 - mask)).sum()\n",
    "FN = ((1 - preds) * mask).sum()\n",
    "\n",
    "# Compute Dice score\n",
    "dice_score = (2 * TP) / (2 * TP + FP + FN)\n",
    "print(dice_score.item())\n",
    "print(f\"true positives: {TP.item()}\")\n",
    "print(f\"false positives: {FP.item()}\")\n",
    "print(f\"false negatives: {FN.item()}\")\n",
    "\n",
    "# Compute number of correct predictions\n",
    "correct_preds = (preds == mask).float().sum()\n",
    "\n",
    "# Total number of predictions\n",
    "total_preds = mask.numel()  # numel() returns total number of elements in a tensor\n",
    "\n",
    "# Compute accuracy\n",
    "accuracy = correct_preds / total_preds\n",
    "print(accuracy.item())"
   ]
  },
  {
   "cell_type": "code",
   "execution_count": null,
   "metadata": {},
   "outputs": [],
   "source": [
    "br = BratsMetastasisFast(\n",
    "    data_root=\"D:\\DATASETS\\Brats 2023\\Segmentation - Brain Metastases\\preprocessed_2d\",\n",
    "    crop_size=(128, 128),\n",
    "    mode=\"te\",\n",
    "    augmentation=True,\n",
    "    val_split=0.9,\n",
    "    test_split=0.05,\n",
    "    root_3D=\"D:\\DATASETS\\Brats 2023\\Segmentation - Brain Metastases\\ASNR-MICCAI-BraTS2023-MET-Challenge-TrainingData\",\n",
    "    p=1.0,\n",
    ")"
   ]
  },
  {
   "cell_type": "code",
   "execution_count": null,
   "metadata": {},
   "outputs": [],
   "source": [
    "a = br[4]\n",
    "for key, value in a.items():\n",
    "    if isinstance(value, str):\n",
    "        continue\n",
    "    print(key, value.shape)\n",
    "a[\"name\"]"
   ]
  }
 ],
 "metadata": {
  "kernelspec": {
   "display_name": "Python 3 (ipykernel)",
   "language": "python",
   "name": "python3"
  },
  "language_info": {
   "codemirror_mode": {
    "name": "ipython",
    "version": 3
   },
   "file_extension": ".py",
   "mimetype": "text/x-python",
   "name": "python",
   "nbconvert_exporter": "python",
   "pygments_lexer": "ipython3",
   "version": "3.11.5"
  }
 },
 "nbformat": 4,
 "nbformat_minor": 4
}
